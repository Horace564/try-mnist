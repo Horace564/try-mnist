{
 "cells": [
  {
   "cell_type": "markdown",
   "metadata": {},
   "source": [
    "<h1>Astar training 2025</h1>\n",
    "\n",
    "*This a notebook for the Astar training 2025. You are guided to train a simple classifier on the cifar-10 dataset.*\n",
    "\n",
    "<h4> Instruction </h4>\n",
    "*Please try to read through this notebook, and fill in the blank according to the instructions given after <b> TODO </b>.*\n",
    "\n",
    "\n",
    "*You may download the notebook or excute directly on kaggle.*\n",
    "\n",
    "<h4> Submission </h4>\n",
    "*submit .pdf converted from this notebook after completion*\n",
    "\n"
   ]
  },
  {
   "cell_type": "markdown",
   "metadata": {},
   "source": [
    "<h3> code Requirements </h3>\n",
    "\n",
    "*This notebook requires the following packages*\n",
    "\n",
    "\n",
    "*excute the following command to install the required packages*\n",
    "\n",
    "\n"
   ]
  },
  {
   "cell_type": "code",
   "execution_count": 1,
   "metadata": {
    "execution": {
     "iopub.execute_input": "2024-09-24T09:07:08.978512Z",
     "iopub.status.busy": "2024-09-24T09:07:08.978228Z",
     "iopub.status.idle": "2024-09-24T09:08:01.424785Z",
     "shell.execute_reply": "2024-09-24T09:08:01.423824Z",
     "shell.execute_reply.started": "2024-09-24T09:07:08.978479Z"
    },
    "trusted": true
   },
   "outputs": [
    {
     "name": "stdout",
     "output_type": "stream",
     "text": [
      "Collecting torch\n",
      "  Downloading torch-2.6.0-cp312-cp312-win_amd64.whl.metadata (28 kB)\n",
      "Collecting torchvision\n",
      "  Downloading torchvision-0.21.0-cp312-cp312-win_amd64.whl.metadata (6.3 kB)\n",
      "Requirement already satisfied: filelock in c:\\users\\fujing123\\anaconda3\\lib\\site-packages (from torch) (3.13.1)\n",
      "Requirement already satisfied: typing-extensions>=4.10.0 in c:\\users\\fujing123\\anaconda3\\lib\\site-packages (from torch) (4.11.0)\n",
      "Requirement already satisfied: networkx in c:\\users\\fujing123\\anaconda3\\lib\\site-packages (from torch) (3.3)\n",
      "Requirement already satisfied: jinja2 in c:\\users\\fujing123\\anaconda3\\lib\\site-packages (from torch) (3.1.4)\n",
      "Requirement already satisfied: fsspec in c:\\users\\fujing123\\anaconda3\\lib\\site-packages (from torch) (2024.6.1)\n",
      "Requirement already satisfied: setuptools in c:\\users\\fujing123\\anaconda3\\lib\\site-packages (from torch) (75.1.0)\n",
      "Collecting sympy==1.13.1 (from torch)\n",
      "  Downloading sympy-1.13.1-py3-none-any.whl.metadata (12 kB)\n",
      "Requirement already satisfied: mpmath<1.4,>=1.1.0 in c:\\users\\fujing123\\anaconda3\\lib\\site-packages (from sympy==1.13.1->torch) (1.3.0)\n",
      "Requirement already satisfied: numpy in c:\\users\\fujing123\\anaconda3\\lib\\site-packages (from torchvision) (1.26.4)\n",
      "Requirement already satisfied: pillow!=8.3.*,>=5.3.0 in c:\\users\\fujing123\\anaconda3\\lib\\site-packages (from torchvision) (10.4.0)\n",
      "Requirement already satisfied: MarkupSafe>=2.0 in c:\\users\\fujing123\\anaconda3\\lib\\site-packages (from jinja2->torch) (2.1.3)\n",
      "Downloading torch-2.6.0-cp312-cp312-win_amd64.whl (204.1 MB)\n",
      "   ---------------------------------------- 0.0/204.1 MB ? eta -:--:--\n",
      "   - -------------------------------------- 5.5/204.1 MB 30.5 MB/s eta 0:00:07\n",
      "   - -------------------------------------- 10.0/204.1 MB 24.8 MB/s eta 0:00:08\n",
      "   --- ------------------------------------ 17.6/204.1 MB 28.4 MB/s eta 0:00:07\n",
      "   ---- ----------------------------------- 25.4/204.1 MB 30.4 MB/s eta 0:00:06\n",
      "   ------ --------------------------------- 33.0/204.1 MB 31.3 MB/s eta 0:00:06\n",
      "   ------- -------------------------------- 40.4/204.1 MB 32.1 MB/s eta 0:00:06\n",
      "   --------- ------------------------------ 47.2/204.1 MB 32.6 MB/s eta 0:00:05\n",
      "   ---------- ----------------------------- 55.1/204.1 MB 33.1 MB/s eta 0:00:05\n",
      "   ------------ --------------------------- 62.4/204.1 MB 33.4 MB/s eta 0:00:05\n",
      "   ------------- -------------------------- 69.7/204.1 MB 33.7 MB/s eta 0:00:04\n",
      "   --------------- ------------------------ 77.3/204.1 MB 33.8 MB/s eta 0:00:04\n",
      "   ---------------- ----------------------- 84.7/204.1 MB 34.0 MB/s eta 0:00:04\n",
      "   ------------------ --------------------- 92.3/204.1 MB 34.0 MB/s eta 0:00:04\n",
      "   ------------------- -------------------- 99.4/204.1 MB 33.9 MB/s eta 0:00:04\n",
      "   -------------------- ------------------ 107.0/204.1 MB 34.1 MB/s eta 0:00:03\n",
      "   --------------------- ----------------- 114.6/204.1 MB 34.2 MB/s eta 0:00:03\n",
      "   ----------------------- --------------- 121.9/204.1 MB 34.3 MB/s eta 0:00:03\n",
      "   ------------------------ -------------- 128.2/204.1 MB 34.0 MB/s eta 0:00:03\n",
      "   ------------------------- ------------- 134.5/204.1 MB 33.8 MB/s eta 0:00:03\n",
      "   --------------------------- ----------- 141.6/204.1 MB 33.7 MB/s eta 0:00:02\n",
      "   ---------------------------- ---------- 148.4/204.1 MB 33.9 MB/s eta 0:00:02\n",
      "   ----------------------------- --------- 154.7/204.1 MB 33.6 MB/s eta 0:00:02\n",
      "   ------------------------------ -------- 162.0/204.1 MB 33.7 MB/s eta 0:00:02\n",
      "   -------------------------------- ------ 169.1/204.1 MB 33.7 MB/s eta 0:00:02\n",
      "   --------------------------------- ----- 176.7/204.1 MB 33.8 MB/s eta 0:00:01\n",
      "   ----------------------------------- --- 184.3/204.1 MB 33.8 MB/s eta 0:00:01\n",
      "   ------------------------------------ -- 191.4/204.1 MB 33.9 MB/s eta 0:00:01\n",
      "   ------------------------------------- - 198.4/204.1 MB 33.8 MB/s eta 0:00:01\n",
      "   --------------------------------------  203.9/204.1 MB 33.8 MB/s eta 0:00:01\n",
      "   --------------------------------------- 204.1/204.1 MB 32.7 MB/s eta 0:00:00\n",
      "Downloading sympy-1.13.1-py3-none-any.whl (6.2 MB)\n",
      "   ---------------------------------------- 0.0/6.2 MB ? eta -:--:--\n",
      "   ---------------------------------------- 6.2/6.2 MB 34.5 MB/s eta 0:00:00\n",
      "Downloading torchvision-0.21.0-cp312-cp312-win_amd64.whl (1.6 MB)\n",
      "   ---------------------------------------- 0.0/1.6 MB ? eta -:--:--\n",
      "   ---------------------------------------- 1.6/1.6 MB 27.6 MB/s eta 0:00:00\n",
      "Installing collected packages: sympy, torch, torchvision\n",
      "  Attempting uninstall: sympy\n",
      "    Found existing installation: sympy 1.13.2\n",
      "    Uninstalling sympy-1.13.2:\n",
      "      Successfully uninstalled sympy-1.13.2\n",
      "Successfully installed sympy-1.13.1 torch-2.6.0 torchvision-0.21.0\n",
      "Requirement already satisfied: matplotlib in c:\\users\\fujing123\\anaconda3\\lib\\site-packages (3.9.2)\n",
      "Requirement already satisfied: contourpy>=1.0.1 in c:\\users\\fujing123\\anaconda3\\lib\\site-packages (from matplotlib) (1.2.0)\n",
      "Requirement already satisfied: cycler>=0.10 in c:\\users\\fujing123\\anaconda3\\lib\\site-packages (from matplotlib) (0.11.0)\n",
      "Requirement already satisfied: fonttools>=4.22.0 in c:\\users\\fujing123\\anaconda3\\lib\\site-packages (from matplotlib) (4.51.0)\n",
      "Requirement already satisfied: kiwisolver>=1.3.1 in c:\\users\\fujing123\\anaconda3\\lib\\site-packages (from matplotlib) (1.4.4)\n",
      "Requirement already satisfied: numpy>=1.23 in c:\\users\\fujing123\\anaconda3\\lib\\site-packages (from matplotlib) (1.26.4)\n",
      "Requirement already satisfied: packaging>=20.0 in c:\\users\\fujing123\\appdata\\roaming\\python\\python312\\site-packages (from matplotlib) (24.1)\n",
      "Requirement already satisfied: pillow>=8 in c:\\users\\fujing123\\anaconda3\\lib\\site-packages (from matplotlib) (10.4.0)\n",
      "Requirement already satisfied: pyparsing>=2.3.1 in c:\\users\\fujing123\\anaconda3\\lib\\site-packages (from matplotlib) (3.1.2)\n",
      "Requirement already satisfied: python-dateutil>=2.7 in c:\\users\\fujing123\\appdata\\roaming\\python\\python312\\site-packages (from matplotlib) (2.9.0.post0)\n",
      "Requirement already satisfied: six>=1.5 in c:\\users\\fujing123\\appdata\\roaming\\python\\python312\\site-packages (from python-dateutil>=2.7->matplotlib) (1.16.0)\n",
      "Requirement already satisfied: numpy in c:\\users\\fujing123\\anaconda3\\lib\\site-packages (1.26.4)\n",
      "Requirement already satisfied: tqdm in c:\\users\\fujing123\\anaconda3\\lib\\site-packages (4.66.5)\n",
      "Requirement already satisfied: colorama in c:\\users\\fujing123\\appdata\\roaming\\python\\python312\\site-packages (from tqdm) (0.4.6)\n"
     ]
    }
   ],
   "source": [
    "!pip install torch torchvision \n",
    "!pip install matplotlib\n",
    "!pip install numpy\n",
    "!pip install tqdm"
   ]
  },
  {
   "cell_type": "code",
   "execution_count": 1,
   "metadata": {
    "execution": {
     "iopub.execute_input": "2024-09-24T09:08:01.427695Z",
     "iopub.status.busy": "2024-09-24T09:08:01.427275Z",
     "iopub.status.idle": "2024-09-24T09:08:05.725958Z",
     "shell.execute_reply": "2024-09-24T09:08:05.725136Z",
     "shell.execute_reply.started": "2024-09-24T09:08:01.427651Z"
    },
    "trusted": true
   },
   "outputs": [],
   "source": [
    "import torch \n",
    "import torch.nn as nn \n",
    "import torch.optim as optim \n",
    "from torch.utils.data import DataLoader, Dataset\n",
    "from torchvision import datasets, transforms\n",
    "\n",
    "\n",
    "import matplotlib.pyplot as plt\n",
    "\n",
    "import numpy as np \n",
    "import pickle\n",
    "\n",
    "import os \n",
    "\n",
    "from tqdm import tqdm"
   ]
  },
  {
   "cell_type": "markdown",
   "metadata": {},
   "source": [
    "<h3> Data preparation </h3>\n",
    "\n",
    "*The dataloader is already implemented for you. You can use it to load the cifar-10 dataset.*"
   ]
  },
  {
   "cell_type": "code",
   "execution_count": 2,
   "metadata": {
    "execution": {
     "iopub.execute_input": "2024-09-24T09:08:05.72748Z",
     "iopub.status.busy": "2024-09-24T09:08:05.727073Z",
     "iopub.status.idle": "2024-09-24T09:08:05.742149Z",
     "shell.execute_reply": "2024-09-24T09:08:05.741298Z",
     "shell.execute_reply.started": "2024-09-24T09:08:05.727446Z"
    },
    "trusted": true
   },
   "outputs": [],
   "source": [
    "class CIFAR10(Dataset):\n",
    "    #__init__ is a special method in python classes, it is called when an object is created\n",
    "    def __init__(self, root, train=True, transform=None):\n",
    "        #root path to the dataset, you may ignore this \n",
    "        self.root = root \n",
    "        \n",
    "        #this is a boolean value to indicate whether we are loading the training or test set\n",
    "        self.train = train \n",
    "        \n",
    "        #this is the transformation that will be applied to the images \n",
    "        #it's none by default, you are required to pass a transform later\n",
    "        self.transform = transform \n",
    "\n",
    "        #checking if the dataset exists, if not download it\n",
    "        if not self._check_exists():\n",
    "            print(\"Downloading cifar10 dataset\")\n",
    "            self.download()\n",
    "\n",
    "        #load the data\n",
    "        #We are going to load the data in memory\n",
    "        #Store the images and labels in the self.data and self.targets variables\n",
    "        if self.train:\n",
    "            self.data, self.targets = self._load_training_data()\n",
    "        else:\n",
    "            self.data, self.targets = self._load_test_data()\n",
    "\n",
    "    #this method returns the length of the dataset\n",
    "    def __len__(self):\n",
    "        return len(self.data)\n",
    "    \n",
    "    #this method returns a sample from the dataset at the given index\n",
    "    #this is very important because it allows us to iterate over the dataset\n",
    "    def __getitem__(self, index):\n",
    "        img, target = self.data[index], int(self.targets[index])\n",
    "\n",
    "        img = torch.from_numpy(img).float().permute(2,0,1) / 255.0\n",
    "\n",
    "        if self.transform:\n",
    "            img = self.transform(img)\n",
    "\n",
    "        return img, target\n",
    "    \n",
    "\n",
    "    def _check_exists(self):\n",
    "        return os.path.exists(os.path.join(self.root, \"cifar-10-batches-py\")) \n",
    "\n",
    "    def download(self):\n",
    "        if self._check_exists():\n",
    "            print(\"Dataset already exists !!!\")\n",
    "            return\n",
    "        return datasets.CIFAR10(self.root, train=self.train, download=True)\n",
    "    \n",
    "    #this function looks complicated but it's just reading the data from the files\n",
    "    def _load_batch(self, file_path):\n",
    "        with open(file_path, 'rb') as f:\n",
    "            data = pickle.load(f, encoding='bytes')\n",
    "        return data[b'data'], data[b'labels']\n",
    "\n",
    "    def _load_training_data(self):\n",
    "        data = []\n",
    "        targets = []\n",
    "        for i in range(1, 6):\n",
    "            file_path = os.path.join(self.root, \"cifar-10-batches-py\", f\"data_batch_{i}\")\n",
    "            batch_data, batch_labels = self._load_batch(file_path)\n",
    "            data.append(batch_data)\n",
    "            targets.extend(batch_labels)\n",
    "        \n",
    "        data = np.vstack(data).reshape(-1, 3, 32, 32).transpose(0, 2, 3, 1)\n",
    "        return data, np.array(targets)\n",
    "\n",
    "    def _load_test_data(self):\n",
    "        file_path = os.path.join(self.root, \"cifar-10-batches-py\", \"test_batch\")\n",
    "        data, labels = self._load_batch(file_path)\n",
    "        return data.reshape(-1, 3, 32, 32).transpose(0, 2, 3, 1), np.array(labels)\n",
    "    "
   ]
  },
  {
   "cell_type": "code",
   "execution_count": 3,
   "metadata": {
    "execution": {
     "iopub.execute_input": "2024-09-24T09:08:05.744503Z",
     "iopub.status.busy": "2024-09-24T09:08:05.74422Z",
     "iopub.status.idle": "2024-09-24T09:08:16.158816Z",
     "shell.execute_reply": "2024-09-24T09:08:16.157952Z",
     "shell.execute_reply.started": "2024-09-24T09:08:05.744472Z"
    },
    "trusted": true
   },
   "outputs": [
    {
     "name": "stdout",
     "output_type": "stream",
     "text": [
      "Downloading cifar10 dataset\n",
      "Downloading https://www.cs.toronto.edu/~kriz/cifar-10-python.tar.gz to data\\cifar-10-python.tar.gz\n"
     ]
    },
    {
     "name": "stderr",
     "output_type": "stream",
     "text": [
      "100%|██████████| 170M/170M [00:15<00:00, 11.1MB/s] \n"
     ]
    },
    {
     "name": "stdout",
     "output_type": "stream",
     "text": [
      "Extracting data\\cifar-10-python.tar.gz to data\n",
      "torch.Size([3, 32, 32]) label:  6\n",
      "torch.Size([3, 32, 32]) label:  6\n"
     ]
    },
    {
     "data": {
      "image/png": "[encoded data removed]",
      "text/plain": [
       "<Figure size 100x100 with 1 Axes>"
      ]
     },
     "metadata": {},
     "output_type": "display_data"
    },
    {
     "data": {
      "image/png": "[encoded data removed]",
      "text/plain": [
       "<Figure size 100x100 with 1 Axes>"
      ]
     },
     "metadata": {},
     "output_type": "display_data"
    }
   ],
   "source": [
    "#We have define our datasetclass, now we are going to instantiate it\n",
    "#The instantiation will download the dataset and load it in memory, it takes about 1-2 mins  \n",
    "train_dataset = CIFAR10(root=\"data\", train=True)\n",
    "test_dataset = CIFAR10(root=\"data\", train=False)\n",
    "\n",
    "#simple demonstration __getitem__ method\n",
    "img, target = train_dataset[0] #get the first image in the dataset \n",
    "plt.figure(figsize=(1,1))\n",
    "plt.imshow(img.permute(1,2,0)) \n",
    "#TODO: what does permute do?, and why do we need it here? \n",
    "#answer:\n",
    "#\n",
    "#end of you answer \n",
    "plt.title(\"Original Image\")\n",
    "print(img.shape, \"label: \",target)\n",
    "#the image is a torch tensor (3, 28, 28) and the target is the label of the image\n",
    "\n",
    "\n",
    "#TODO: define reasonable transformations for the images, you can use the transforms module from torchvision\n",
    "transform = transforms.Compose([\n",
    "    transforms.ToPILImage(),\n",
    "\n",
    "    #TODO: Implement the transformations here \n",
    "\n",
    "    transforms.RandomRotation(15),\n",
    "    transforms.RandomHorizontalFlip(),\n",
    "    \n",
    "    #end of your implementation;\n",
    "\n",
    "    transforms.ToTensor()\n",
    "])\n",
    "\n",
    "train_dataset.transform = transform\n",
    "\n",
    "img, target = train_dataset[0] #get the first image in the dataset\n",
    "plt.figure(figsize=(1,1))\n",
    "plt.imshow(img.permute(1,2,0))\n",
    "plt.title(\"Transformed Image\")\n",
    "print(img.shape, \"label: \",target)\n"
   ]
  },
  {
   "cell_type": "code",
   "execution_count": 4,
   "metadata": {
    "execution": {
     "iopub.execute_input": "2024-09-24T09:08:16.160218Z",
     "iopub.status.busy": "2024-09-24T09:08:16.159899Z",
     "iopub.status.idle": "2024-09-24T09:08:16.176988Z",
     "shell.execute_reply": "2024-09-24T09:08:16.176152Z",
     "shell.execute_reply.started": "2024-09-24T09:08:16.16018Z"
    },
    "trusted": true
   },
   "outputs": [],
   "source": [
    "#apart from test set, we are going to use the training set to create a validation set\n",
    "#we are going to split the training set into two parts\n",
    "train_size = int(0.9 * len(train_dataset))\n",
    "val_size = len(train_dataset) - train_size\n",
    "train_dataset, val_dataset = torch.utils.data.random_split(train_dataset, [train_size, val_size])\n",
    "\n",
    "#we are going to use the DataLoader class to create an iterator for our dataset\n",
    "#this iterator will be used to iterate over the dataset in batches\n",
    "#tentatively we are going to use a batch size of 32\n",
    "#TODO: change different batch sizes and see how it affects the training process\n",
    "train_loader = DataLoader(train_dataset, batch_size=256, shuffle=True, num_workers= 0, pin_memory=True)\n",
    "val_loader = DataLoader(val_dataset, batch_size=256, shuffle=False,num_workers= 0, pin_memory = True)\n",
    "test_loader = DataLoader(test_dataset, batch_size=256, shuffle=False,num_workers= 0, pin_memory = True)"
   ]
  },
  {
   "cell_type": "markdown",
   "metadata": {},
   "source": [
    "<h3> Model </h3>\n",
    "\n",
    "*This defines the model architecture. You can use the model as it is or modify it as per your requirements.*"
   ]
  },
  {
   "cell_type": "code",
   "execution_count": 6,
   "metadata": {
    "execution": {
     "iopub.execute_input": "2024-09-24T09:11:26.328712Z",
     "iopub.status.busy": "2024-09-24T09:11:26.327886Z",
     "iopub.status.idle": "2024-09-24T09:11:26.34273Z",
     "shell.execute_reply": "2024-09-24T09:11:26.341564Z",
     "shell.execute_reply.started": "2024-09-24T09:11:26.328675Z"
    },
    "trusted": true
   },
   "outputs": [],
   "source": [
    "class LinearModel(nn.Module):\n",
    "    def __init__(self):\n",
    "        super().__init__()\n",
    "        self.name = \"Linear\"\n",
    "        self.num_inputs = 3*32*32\n",
    "        hidden_size = 512\n",
    "        num_classes = 10\n",
    "        super().__init__()\n",
    "        self.linear = nn.Sequential(\n",
    "            nn.Linear(self.num_inputs, hidden_size),    # batch_size x 784 -> batch_size x 512\n",
    "            nn.ReLU(), #activation function             # batch_size x 512 -> batch_size x 512\n",
    "            nn.Linear(hidden_size, num_classes)         # batch_size x 512 -> batch_size x 10\n",
    "        ) #nn.Sequential is a container for other layers, it applies the layers in sequence\n",
    "\n",
    "    #forward is the method that defines the forward pass of the network\n",
    "    #not rigurously: model.forward(x) = model(x)x\n",
    "    def forward(self, x):\n",
    "        x = x.view(-1, self.num_inputs) # flatten the image from 3x32x32 to 3072\n",
    "        x = self.linear(x)\n",
    "        return x\n",
    "    \n",
    "class CNNModel(nn.Module):\n",
    "    def __init__(self):\n",
    "        super().__init__()\n",
    "        self.name = \"CNN\"\n",
    "        self.conv = nn.Sequential(\n",
    "            #TODO: wirte the size of the input and output of each layer e.g\n",
    "            nn.Conv2d(3, 32, kernel_size=3, stride=1, padding=1), #input: 3x32x32, output: 32x32x32\n",
    "            nn.ReLU(),\n",
    "            nn.MaxPool2d(kernel_size=2, stride=2),\n",
    "            nn.Conv2d(32, 64, kernel_size=3, stride=1, padding=1),\n",
    "            nn.ReLU(),\n",
    "            nn.MaxPool2d(kernel_size=2, stride=2),\n",
    "            nn.Conv2d(64, 128, kernel_size=3, stride=1, padding=1),\n",
    "            nn.ReLU(),\n",
    "            nn.MaxPool2d(kernel_size=2, stride=2)\n",
    "        )\n",
    "        self.fc = nn.Sequential(\n",
    "            nn.Linear(128*4*4, 512),\n",
    "            nn.ReLU(),\n",
    "            nn.Linear(512, 10)\n",
    "        )\n",
    "    \n",
    "    def forward(self, x):\n",
    "        x = self.conv(x)\n",
    "        x = x.view(-1, 128*4*4)\n",
    "        x = self.fc(x)\n",
    "        return x\n",
    "    \n",
    "    def getFeature(self, x):\n",
    "        x = self.conv(x)\n",
    "        feat = x.view(-1, 128*4*4) #this is the 128*4*4 feature \n",
    "        return feat\n",
    "    \n"
   ]
  },
  {
   "cell_type": "code",
   "execution_count": 10,
   "metadata": {},
   "outputs": [
    {
     "name": "stdout",
     "output_type": "stream",
     "text": [
      "2.5.1+cu121\n",
      "12.1\n",
      "True\n",
      "NVIDIA GeForce RTX 4060 Laptop GPU\n"
     ]
    }
   ],
   "source": [
    "print(torch.__version__)\n",
    "print(torch.version.cuda)  \n",
    "print(torch.cuda.is_available())  \n",
    "print(torch.cuda.get_device_name(0)) "
   ]
  },
  {
   "cell_type": "markdown",
   "metadata": {},
   "source": [
    "<h3> Training </h3>\n",
    "\n",
    "*This is the training loop. You can modify the training loop as per your requirements.*\n",
    "\n",
    "*The training takes some time. You can do other tasks while the training is in progress.*\n",
    "\n",
    "*you may use the gpu on kaggle or colab to speed up the training process.* https://www.kaggle.com/discussions/general/97939"
   ]
  },
  {
   "cell_type": "code",
   "execution_count": 9,
   "metadata": {
    "trusted": true
   },
   "outputs": [
    {
     "name": "stdout",
     "output_type": "stream",
     "text": [
      "using device: cuda\n",
      "training CNN model\n"
     ]
    },
    {
     "name": "stderr",
     "output_type": "stream",
     "text": [
      "100%|██████████| 176/176 [00:08<00:00, 19.75it/s]\n"
     ]
    },
    {
     "name": "stdout",
     "output_type": "stream",
     "text": [
      "Epoch: 0, Loss: 1.580361008644104, Accuracy: 0.3976 ***\n"
     ]
    },
    {
     "name": "stderr",
     "output_type": "stream",
     "text": [
      "100%|██████████| 176/176 [00:08<00:00, 20.85it/s]\n"
     ]
    },
    {
     "name": "stdout",
     "output_type": "stream",
     "text": [
      "Epoch: 1, Loss: 1.5204532146453857, Accuracy: 0.4254 ***\n"
     ]
    },
    {
     "name": "stderr",
     "output_type": "stream",
     "text": [
      "100%|██████████| 176/176 [00:08<00:00, 20.88it/s]\n"
     ]
    },
    {
     "name": "stdout",
     "output_type": "stream",
     "text": [
      "Epoch: 2, Loss: 1.4409593343734741, Accuracy: 0.4712 ***\n"
     ]
    },
    {
     "name": "stderr",
     "output_type": "stream",
     "text": [
      "100%|██████████| 176/176 [00:08<00:00, 20.75it/s]\n"
     ]
    },
    {
     "name": "stdout",
     "output_type": "stream",
     "text": [
      "Epoch: 3, Loss: 1.3205548524856567, Accuracy: 0.483 ***\n"
     ]
    },
    {
     "name": "stderr",
     "output_type": "stream",
     "text": [
      "100%|██████████| 176/176 [00:08<00:00, 20.72it/s]\n"
     ]
    },
    {
     "name": "stdout",
     "output_type": "stream",
     "text": [
      "Epoch: 4, Loss: 1.3125721216201782, Accuracy: 0.5206 ***\n"
     ]
    },
    {
     "name": "stderr",
     "output_type": "stream",
     "text": [
      "100%|██████████| 176/176 [00:08<00:00, 20.22it/s]\n"
     ]
    },
    {
     "name": "stdout",
     "output_type": "stream",
     "text": [
      "Epoch: 5, Loss: 1.3749263286590576, Accuracy: 0.5222 ***\n"
     ]
    },
    {
     "name": "stderr",
     "output_type": "stream",
     "text": [
      "100%|██████████| 176/176 [00:09<00:00, 19.54it/s]\n"
     ]
    },
    {
     "name": "stdout",
     "output_type": "stream",
     "text": [
      "Epoch: 6, Loss: 1.3880326747894287, Accuracy: 0.5304 ***\n"
     ]
    },
    {
     "name": "stderr",
     "output_type": "stream",
     "text": [
      "100%|██████████| 176/176 [00:08<00:00, 19.79it/s]\n"
     ]
    },
    {
     "name": "stdout",
     "output_type": "stream",
     "text": [
      "Epoch: 7, Loss: 1.1898235082626343, Accuracy: 0.5376 ***\n"
     ]
    },
    {
     "name": "stderr",
     "output_type": "stream",
     "text": [
      "100%|██████████| 176/176 [00:08<00:00, 19.64it/s]\n"
     ]
    },
    {
     "name": "stdout",
     "output_type": "stream",
     "text": [
      "Epoch: 8, Loss: 1.196560025215149, Accuracy: 0.5396 ***\n"
     ]
    },
    {
     "name": "stderr",
     "output_type": "stream",
     "text": [
      "100%|██████████| 176/176 [00:08<00:00, 19.97it/s]\n"
     ]
    },
    {
     "name": "stdout",
     "output_type": "stream",
     "text": [
      "Epoch: 9, Loss: 1.2712793350219727, Accuracy: 0.5552 ***\n"
     ]
    },
    {
     "name": "stderr",
     "output_type": "stream",
     "text": [
      "100%|██████████| 176/176 [00:08<00:00, 19.80it/s]\n"
     ]
    },
    {
     "name": "stdout",
     "output_type": "stream",
     "text": [
      "Epoch: 10, Loss: 1.1496901512145996, Accuracy: 0.5484\n"
     ]
    },
    {
     "name": "stderr",
     "output_type": "stream",
     "text": [
      "100%|██████████| 176/176 [00:08<00:00, 19.91it/s]\n"
     ]
    },
    {
     "name": "stdout",
     "output_type": "stream",
     "text": [
      "Epoch: 11, Loss: 1.0585979223251343, Accuracy: 0.5644 ***\n"
     ]
    },
    {
     "name": "stderr",
     "output_type": "stream",
     "text": [
      "100%|██████████| 176/176 [00:08<00:00, 19.70it/s]\n"
     ]
    },
    {
     "name": "stdout",
     "output_type": "stream",
     "text": [
      "Epoch: 12, Loss: 1.2388828992843628, Accuracy: 0.5618\n"
     ]
    },
    {
     "name": "stderr",
     "output_type": "stream",
     "text": [
      "100%|██████████| 176/176 [00:09<00:00, 18.82it/s]\n"
     ]
    },
    {
     "name": "stdout",
     "output_type": "stream",
     "text": [
      "Epoch: 13, Loss: 1.2217577695846558, Accuracy: 0.556\n"
     ]
    },
    {
     "name": "stderr",
     "output_type": "stream",
     "text": [
      "100%|██████████| 176/176 [00:10<00:00, 17.26it/s]\n"
     ]
    },
    {
     "name": "stdout",
     "output_type": "stream",
     "text": [
      "Epoch: 14, Loss: 1.238285779953003, Accuracy: 0.552\n"
     ]
    },
    {
     "name": "stderr",
     "output_type": "stream",
     "text": [
      "100%|██████████| 176/176 [00:12<00:00, 14.29it/s]\n"
     ]
    },
    {
     "name": "stdout",
     "output_type": "stream",
     "text": [
      "Epoch: 15, Loss: 1.3147448301315308, Accuracy: 0.5558\n"
     ]
    },
    {
     "name": "stderr",
     "output_type": "stream",
     "text": [
      "100%|██████████| 176/176 [00:15<00:00, 11.61it/s]\n"
     ]
    },
    {
     "name": "stdout",
     "output_type": "stream",
     "text": [
      "Epoch: 16, Loss: 1.4128390550613403, Accuracy: 0.5678 ***\n"
     ]
    },
    {
     "name": "stderr",
     "output_type": "stream",
     "text": [
      "100%|██████████| 176/176 [00:14<00:00, 11.78it/s]\n"
     ]
    },
    {
     "name": "stdout",
     "output_type": "stream",
     "text": [
      "Epoch: 17, Loss: 1.2173353433609009, Accuracy: 0.5726 ***\n"
     ]
    },
    {
     "name": "stderr",
     "output_type": "stream",
     "text": [
      "100%|██████████| 176/176 [00:08<00:00, 20.39it/s]\n"
     ]
    },
    {
     "name": "stdout",
     "output_type": "stream",
     "text": [
      "Epoch: 18, Loss: 1.1345105171203613, Accuracy: 0.5786 ***\n"
     ]
    },
    {
     "name": "stderr",
     "output_type": "stream",
     "text": [
      "100%|██████████| 176/176 [00:08<00:00, 19.88it/s]\n"
     ]
    },
    {
     "name": "stdout",
     "output_type": "stream",
     "text": [
      "Epoch: 19, Loss: 1.0586787462234497, Accuracy: 0.5848 ***\n"
     ]
    }
   ],
   "source": [
    "device = torch.device(\"cuda\" if torch.cuda.is_available() else \"cpu\")\n",
    "print(\"using device:\", device)\n",
    "#instantiating the model\n",
    "#TODO: change the model to the CNNModel and Your model, and evaluate the performance.\n",
    "#model = LinearModel()\n",
    "model = CNNModel()\n",
    "model = model.to(device)\n",
    "print(f\"training {model.name} model\")\n",
    "\n",
    "#defining the loss function\n",
    "criterion = nn.CrossEntropyLoss()\n",
    "\n",
    "#defining the optimizer\n",
    "#TODO: try to modify the optimizer and see how it affects the training process\n",
    "optimizer = optim.Adam(model.parameters(), lr=0.01)\n",
    "\n",
    "best_accuracy = 0\n",
    "#early stopping \n",
    "early_stopping = 5\n",
    "early_stopping_counter = 0\n",
    "\n",
    "\n",
    "\n",
    "#TODO: adjust the number of epochs and see how it affects the training process\n",
    "epochs = 20\n",
    "for epoch in range(epochs):\n",
    "    #training \n",
    "    for images, labels in tqdm(train_loader):\n",
    "        images = images.to(device)\n",
    "        labels = labels.to(device)\n",
    "        #forward pass\n",
    "        outputs = model(images)\n",
    "        #calculate the loss\n",
    "        loss = criterion(outputs, labels)\n",
    "        #zero the gradients\n",
    "        optimizer.zero_grad() #ensure that the gradients are zero\n",
    "        #backward pass\n",
    "        loss.backward()\n",
    "        #optimize\n",
    "        optimizer.step()\n",
    "    #validation\n",
    "    total = 0\n",
    "    correct = 0\n",
    "    for images, labels in val_loader:\n",
    "        images = images.to(device)\n",
    "        labels = labels.to(device)\n",
    "        outputs = model(images)\n",
    "        _, predicted = torch.max(outputs, 1)\n",
    "        total += labels.size(0)\n",
    "        correct += (predicted == labels).sum().item()\n",
    "    accuracy = correct / total\n",
    "\n",
    "    #TODO: implement early stopping\n",
    "    #what is early stopping? https://en.wikipedia.org/wiki/Early_stopping\n",
    "\n",
    "    if accuracy > best_accuracy:\n",
    "        best_accuracy = accuracy\n",
    "        early_stopping_counter=0\n",
    "        #save the model \n",
    "        torch.save(model.state_dict(), f\"best_model_{model.name}.pth\")\n",
    "        print(f\"Epoch: {epoch}, Loss: {loss.item()}, Accuracy: {accuracy} ***\")\n",
    "    else: \n",
    "        early_stopping_counter += 1\n",
    "        print(f\"Epoch: {epoch}, Loss: {loss.item()}, Accuracy: {accuracy}\")\n",
    "    \n",
    "    if(early_stopping_counter == early_stopping):\n",
    "        break\n",
    "    \n",
    "    #end of early stopping\n",
    "\n",
    "\n",
    "\n"
   ]
  },
  {
   "cell_type": "markdown",
   "metadata": {},
   "source": [
    "<h3> Evaluation </h3>"
   ]
  },
  {
   "cell_type": "code",
   "execution_count": 11,
   "metadata": {
    "execution": {
     "iopub.execute_input": "2024-09-24T09:15:40.233452Z",
     "iopub.status.busy": "2024-09-24T09:15:40.232998Z",
     "iopub.status.idle": "2024-09-24T09:15:40.628305Z",
     "shell.execute_reply": "2024-09-24T09:15:40.627115Z",
     "shell.execute_reply.started": "2024-09-24T09:15:40.233412Z"
    },
    "trusted": true
   },
   "outputs": [
    {
     "name": "stdout",
     "output_type": "stream",
     "text": [
      "Test Accuracy: 0.6049\n"
     ]
    }
   ],
   "source": [
    "#load the best model\n",
    "model.load_state_dict(torch.load(f\"best_model_{model.name}.pth\", weights_only=False))\n",
    "\n",
    "#testing\n",
    "total = 0\n",
    "correct = 0\n",
    "for images, labels in test_loader:\n",
    "    images = images.to(device)\n",
    "    labels = labels.to(device)\n",
    "    outputs = model(images)\n",
    "    _, predicted = torch.max(outputs, 1)\n",
    "    total += labels.size(0)\n",
    "    correct += (predicted == labels).sum().item()\n",
    "accuracy = correct / total\n",
    "print(f\"Test Accuracy: {accuracy}\")"
   ]
  }
 ],
 "metadata": {
  "kaggle": {
   "accelerator": "gpu",
   "dataSources": [],
   "dockerImageVersionId": 30761,
   "isGpuEnabled": true,
   "isInternetEnabled": false,
   "language": "python",
   "sourceType": "notebook"
  },
  "kernelspec": {
   "display_name": "base",
   "language": "python",
   "name": "python3"
  },
  "language_info": {
   "codemirror_mode": {
    "name": "ipython",
    "version": 3
   },
   "file_extension": ".py",
   "mimetype": "text/x-python",
   "name": "python",
   "nbconvert_exporter": "python",
   "pygments_lexer": "ipython3",
   "version": "3.12.7"
  }
 },
 "nbformat": 4,
 "nbformat_minor": 4
}
